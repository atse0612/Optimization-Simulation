{
 "cells": [
  {
   "cell_type": "markdown",
   "metadata": {},
   "source": [
    "# Import the Packages"
   ]
  },
  {
   "cell_type": "code",
   "execution_count": 1,
   "metadata": {},
   "outputs": [],
   "source": [
    "from pulp import *"
   ]
  },
  {
   "cell_type": "code",
   "execution_count": 2,
   "metadata": {},
   "outputs": [],
   "source": [
    "import pandas as pd"
   ]
  },
  {
   "cell_type": "markdown",
   "metadata": {},
   "source": [
    "# Reading the Dataset"
   ]
  },
  {
   "cell_type": "code",
   "execution_count": 3,
   "metadata": {},
   "outputs": [],
   "source": [
    "grub = pd.read_excel(\"./dietSummer2018.xls\")\n",
    "grub = grub[0:64].values.tolist()"
   ]
  },
  {
   "cell_type": "markdown",
   "metadata": {},
   "source": [
    "# Variables for Optimization"
   ]
  },
  {
   "cell_type": "code",
   "execution_count": 4,
   "metadata": {},
   "outputs": [],
   "source": [
    "meals = [d[0] for d in grub]\n",
    "exp = dict([(d[0], float(d[1])) for d in grub])\n",
    "Cal = dict([(d[0], float(d[3])) for d in grub])\n",
    "chlest = dict([(d[0], float(d[4])) for d in grub])\n",
    "fat = dict([(d[0], float(d[5])) for d in grub])\n",
    "sodium = dict([(d[0], float(d[6])) for d in grub])\n",
    "carbs = dict([(d[0], float(d[7])) for d in grub])\n",
    "fiber = dict([(d[0], float(d[8])) for d in grub])\n",
    "protein = dict([(d[0], float(d[9])) for d in grub])\n",
    "vita_A = dict([(d[0], float(d[10])) for d in grub])\n",
    "vita_C = dict([(d[0], float(d[11])) for d in grub])\n",
    "calcium = dict([(d[0], float(d[12])) for d in grub])\n",
    "iron = dict([(d[0], float(d[13])) for d in grub])\n",
    "\n",
    "diet = LpProblem(\"Diet Optimization\",LpMinimize)"
   ]
  },
  {
   "cell_type": "markdown",
   "metadata": {},
   "source": [
    "For this section, we have created all the variables in order to formulate the optimization problem. In these variables, we are going to focus on the nutrients in order to have the most optimal diet at the most optimal cost based on the given nutrients. "
   ]
  },
  {
   "cell_type": "markdown",
   "metadata": {},
   "source": [
    "# Creating the Initial Variables"
   ]
  },
  {
   "cell_type": "code",
   "execution_count": 5,
   "metadata": {},
   "outputs": [],
   "source": [
    "var_f = LpVariable.dicts(\"Foods\", meals, lowBound = 0 )\n",
    "varc = LpVariable.dicts(\"Chosen\", meals, lowBound = 0, upBound = 1, cat = \"Binary\")"
   ]
  },
  {
   "cell_type": "markdown",
   "metadata": {},
   "source": [
    "# Minimizing the Total Cost"
   ]
  },
  {
   "cell_type": "code",
   "execution_count": 6,
   "metadata": {},
   "outputs": [],
   "source": [
    "diet += lpSum([exp[f]*var_f[f] for f in meals]), \"Total Cost\""
   ]
  },
  {
   "cell_type": "markdown",
   "metadata": {},
   "source": [
    "This is an objective function to minimize the total cost in order to keep the budget at minimum."
   ]
  },
  {
   "cell_type": "markdown",
   "metadata": {},
   "source": [
    "# Setting Up the Constraints"
   ]
  },
  {
   "cell_type": "code",
   "execution_count": 7,
   "metadata": {},
   "outputs": [],
   "source": [
    "diet += lpSum([Cal[f]*var_f[f] for f in meals]) >= 1500, 'Minimum Calories Consumption'\n",
    "diet += lpSum([Cal[f]*var_f[f] for f in meals]) <= 2500, 'Maximum Calories Consumption'\n",
    "\n",
    "diet += lpSum([chlest[f]*var_f[f] for f in meals]) >= 30, 'Minimum Cholestrol Recommended'\n",
    "diet += lpSum([chlest[f]*var_f[f] for f in meals]) <= 240, 'Maximum Cholestrol Limit'\n",
    "\n",
    "diet += lpSum([fat[f]*var_f[f] for f in meals]) >= 20, 'Minimum Fat Content'\n",
    "diet += lpSum([fat[f]*var_f[f] for f in meals]) <= 70, 'Maximum Fat Limit'\n",
    "\n",
    "diet += lpSum([sodium[f]*var_f[f] for f in meals]) >= 800, 'Maximum Sodium Content'\n",
    "diet += lpSum([sodium[f]*var_f[f] for f in meals]) <= 2000, 'Maximum Sodium Limit'\n",
    "\n",
    "diet += lpSum([carbs[f]*var_f[f] for f in meals]) >= 130, 'Minimum Carbohydrate Content'\n",
    "diet += lpSum([carbs[f]*var_f[f] for f in meals]) <= 450, 'Maximum Carbohydrate Limit'\n",
    "\n",
    "diet += lpSum([fiber[f]*var_f[f] for f in meals]) >= 125, 'Minimum Fiber Content'\n",
    "diet += lpSum([fiber[f]*var_f[f] for f in meals]) <= 250, 'Maximum Fiber Limit'\n",
    "\n",
    "diet += lpSum([protein[f]*var_f[f] for f in meals]) >= 60, 'Minimum Protein Content'\n",
    "diet += lpSum([protein[f]*var_f[f] for f in meals]) <= 100, 'Maximum Protein Limit'\n",
    "\n",
    "diet += lpSum([vita_A[f]*var_f[f] for f in meals]) >= 1000, 'Minimum Vitamin A Content'\n",
    "diet += lpSum([vita_A[f]*var_f[f] for f in meals]) <= 10000, 'Maximum Vitamin A Limit'\n",
    "\n",
    "diet += lpSum([vita_C[f]*var_f[f] for f in meals]) >= 400, 'Minimum Vitamin C Content'\n",
    "diet += lpSum([vita_C[f]*var_f[f] for f in meals]) <= 5000, 'Maximum Vitamin C Limit'\n",
    "\n",
    "diet += lpSum([calcium[f]*var_f[f] for f in meals]) >= 700, 'Minimum Calcium Recommended'\n",
    "diet += lpSum([calcium[f]*var_f[f] for f in meals]) <= 1500, 'Maximum Calcium Limit'\n",
    "\n",
    "diet += lpSum([iron[f]*var_f[f] for f in meals]) >= 10, 'Minimum Iron Recommended'\n",
    "diet += lpSum([iron[f]*var_f[f] for f in meals]) <= 40, 'Maximum Iron Limit'"
   ]
  },
  {
   "cell_type": "markdown",
   "metadata": {},
   "source": [
    "All of these constraints are all referring to the problem in the diet optimization problem. These are all based on the Calories, Cholestrol, Fat, Sodium, Carbohydrate, Fiber, Protein, A Vitamin, C Vitamin, calcium, and Iron limits."
   ]
  },
  {
   "cell_type": "markdown",
   "metadata": {},
   "source": [
    "# Question 15.2 Part 1"
   ]
  },
  {
   "cell_type": "code",
   "execution_count": 8,
   "metadata": {},
   "outputs": [
    {
     "name": "stdout",
     "output_type": "stream",
     "text": [
      "Solving Part 1.........................\n",
      "Status: Optimal\n",
      "Foods_Celery,_Raw = 52.64371\n",
      "Foods_Frozen_Broccoli = 0.25960653\n",
      "Foods_Lettuce,Iceberg,Raw = 63.988506\n",
      "Foods_Oranges = 2.2929389\n",
      "Foods_Poached_Eggs = 0.14184397\n",
      "Foods_Popcorn,Air_Popped = 13.869322\n",
      "Total expenses for food is $4.34\n"
     ]
    }
   ],
   "source": [
    "print(\"Solving Part 1.........................\")\n",
    "diet.solve()\n",
    "print(\"Status:\", LpStatus[diet.status])\n",
    "for c in diet.variables():\n",
    "    if c.varValue != 0.0: # Only print items that are not zero\n",
    "        print(c.name, \"=\", c.varValue)\n",
    "\n",
    "print (\"Total expenses for food is $%.2f\" % value(diet.objective))"
   ]
  },
  {
   "cell_type": "markdown",
   "metadata": {},
   "source": [
    "By running the first part of the optimization, the total expenses for food is $4.34. However, it is as expected from the question on the homework that it will come out to these items returned in the overall diet problem. While looking at the list for the diet, it has been indicated that the majority should be allocated to ceelry, lettuce, and popcorn."
   ]
  },
  {
   "cell_type": "markdown",
   "metadata": {},
   "source": [
    "# Question 15.2 Part 2 Section A"
   ]
  },
  {
   "cell_type": "code",
   "execution_count": 9,
   "metadata": {},
   "outputs": [],
   "source": [
    "for f in meals:\n",
    "     diet += var_f[f] <= 10000000*varc[f]\n",
    "     diet += var_f[f] >= .1*varc[f]"
   ]
  },
  {
   "cell_type": "markdown",
   "metadata": {},
   "source": [
    "# Section B: Can Only Choose One, Not Both"
   ]
  },
  {
   "cell_type": "code",
   "execution_count": 10,
   "metadata": {},
   "outputs": [],
   "source": [
    "diet += varc['Frozen Broccoli'] + varc['Celery, Raw'] <=1"
   ]
  },
  {
   "cell_type": "markdown",
   "metadata": {},
   "source": [
    "# Section C: Select At Least 3 Meats"
   ]
  },
  {
   "cell_type": "code",
   "execution_count": 11,
   "metadata": {},
   "outputs": [],
   "source": [
    "diet += varc['Tofu'] + varc['Roasted Chicken'] + \\\n",
    "varc['Poached Eggs']+varc['Scrambled Eggs']+varc['Bologna,Turkey'] \\\n",
    "+varc['Frankfurter, Beef']+varc['Ham,Sliced,Extralean'] \\\n",
    "+varc['Kielbasa,Prk']+varc['Hamburger W/Toppings'] \\\n",
    "+varc['Hotdog, Plain']+varc['Pork'] +varc['Sardines in Oil'] \\\n",
    "+varc['Pizza W/Pepperoni'] \\\n",
    "+varc['White Tuna in Water'] >= 3"
   ]
  },
  {
   "cell_type": "markdown",
   "metadata": {},
   "source": [
    "# Obtaining Results for Part B"
   ]
  },
  {
   "cell_type": "code",
   "execution_count": 12,
   "metadata": {},
   "outputs": [
    {
     "name": "stdout",
     "output_type": "stream",
     "text": [
      "Part B..........................\n",
      "Status: Optimal\n",
      "Chosen_Celery,_Raw = 1.0\n",
      "Chosen_Kielbasa,Prk = 1.0\n",
      "Chosen_Lettuce,Iceberg,Raw = 1.0\n",
      "Chosen_Oranges = 1.0\n",
      "Chosen_Peanut_Butter = 1.0\n",
      "Chosen_Poached_Eggs = 1.0\n",
      "Chosen_Popcorn,Air_Popped = 1.0\n",
      "Chosen_Scrambled_Eggs = 1.0\n",
      "Foods_Celery,_Raw = 42.399358\n",
      "Foods_Kielbasa,Prk = 0.1\n",
      "Foods_Lettuce,Iceberg,Raw = 82.802586\n",
      "Foods_Oranges = 3.0771841\n",
      "Foods_Peanut_Butter = 1.9429716\n",
      "Foods_Poached_Eggs = 0.1\n",
      "Foods_Popcorn,Air_Popped = 13.223294\n",
      "Foods_Scrambled_Eggs = 0.1\n",
      "Additional cost of foods with additional constraints sums up as $4.51\n"
     ]
    }
   ],
   "source": [
    "print(\"Part B..........................\")\n",
    "diet.solve()\n",
    "print(\"Status:\", LpStatus[diet.status])\n",
    "for a in diet.variables():\n",
    "    if a.varValue != 0.0: # Excluding the zero values\n",
    "        print(a.name, \"=\", a.varValue)\n",
    "\n",
    "print(\"Additional cost of foods with additional constraints sums up as $%.2f\" % value(diet.objective))"
   ]
  },
  {
   "cell_type": "markdown",
   "metadata": {},
   "source": [
    "By including the meats for the optimization model, it turns out more expensive at $4.51."
   ]
  },
  {
   "cell_type": "markdown",
   "metadata": {},
   "source": [
    "However, the meats can be based on preferences of the individual's choice. In addition, the diet turns out to be much more optimal for the diet instead of the nasty tastes from the first model. Although, it does come at a cost for extra $0.17 to have more items there. In addition, the diet still consists of the celery, lettuce, and popcorn for the majority of the diet as with the original optimization solution though, but at a lesser amount for celery and popcorn. More emphasis has been placed on lettuce though. "
   ]
  },
  {
   "cell_type": "code",
   "execution_count": null,
   "metadata": {},
   "outputs": [],
   "source": []
  }
 ],
 "metadata": {
  "kernelspec": {
   "display_name": "Python 3",
   "language": "python",
   "name": "python3"
  },
  "language_info": {
   "codemirror_mode": {
    "name": "ipython",
    "version": 3
   },
   "file_extension": ".py",
   "mimetype": "text/x-python",
   "name": "python",
   "nbconvert_exporter": "python",
   "pygments_lexer": "ipython3",
   "version": "3.6.6"
  }
 },
 "nbformat": 4,
 "nbformat_minor": 2
}
