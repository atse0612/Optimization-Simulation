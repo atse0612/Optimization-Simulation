{
 "cells": [
  {
   "cell_type": "markdown",
   "metadata": {},
   "source": [
    "# Import the Modules"
   ]
  },
  {
   "cell_type": "code",
   "execution_count": 1,
   "metadata": {},
   "outputs": [],
   "source": [
    "import simpy as sy # Simpy Module to run simulations"
   ]
  },
  {
   "cell_type": "code",
   "execution_count": 2,
   "metadata": {},
   "outputs": [],
   "source": [
    "import random # Running random probabilities"
   ]
  },
  {
   "cell_type": "markdown",
   "metadata": {},
   "source": [
    "# Creating the Parameters to Use for Simulation"
   ]
  },
  {
   "cell_type": "code",
   "execution_count": 23,
   "metadata": {},
   "outputs": [],
   "source": [
    "random.seed(1920)\n",
    "air_serv = 30 # Boarding Pass Checkers\n",
    "air_scan = 20 # Boarding Pass Scanners\n",
    "runTime = 1000 # times per simulation\n",
    "total_time = 0\n",
    "total_passengers = 1\n",
    "sum_pass = 500 # Done the simulation with a selected number"
   ]
  },
  {
   "cell_type": "markdown",
   "metadata": {},
   "source": [
    "## Creating the Definitions to Run the Simulations"
   ]
  },
  {
   "cell_type": "code",
   "execution_count": 24,
   "metadata": {},
   "outputs": [],
   "source": [
    "class Travel_Screen(object):\n",
    "    \"\"\"ID/boarding pass check queue and security scanning\n",
    "    \"\"\"\n",
    "    def __init__(self, env, air_serv, air_scan):\n",
    "        self.env = env\n",
    "        self.server = sy.Resource(env, air_serv)\n",
    "        self.scanner = sy.Resource(env, air_scan) # Running the resources to serve the customer\n",
    "        \n",
    "\n",
    "    def IDcheck(self, passenger):\n",
    "        \"\"\"The ID check process. It takes a \"person\", checks their ID,then \n",
    "        passes him/her to the next step.\"\"\"\n",
    "        serv_time = random.expovariate(.75) # Mean Rate 2 (Check Rate)\n",
    "        yield self.env.timeout(serv_time)\n",
    "\n",
    "    def scan(self, passenger):\n",
    "        \"\"\"Security Scan. Passenergs are sent to shortest queue then scanned\"\"\"\n",
    "        scan_time = random.uniform(0.5, 1) # Going through the Personal Scanner for Min Scan and Max Scan\n",
    "        yield self.env.timeout(scan_time)"
   ]
  },
  {
   "cell_type": "markdown",
   "metadata": {},
   "source": [
    "# Creating the Passenger Simulation"
   ]
  },
  {
   "cell_type": "code",
   "execution_count": 25,
   "metadata": {},
   "outputs": [],
   "source": [
    "def Passenger(env, number, t):\n",
    "    \"\"\"Passnegers arrive, to the first available server for the ID check then\n",
    "    sent to the first available scanner.\n",
    "    \"\"\"\n",
    "    global total_time #global average wait time\n",
    "    global total_passengers    \n",
    "    Arrivaltime = env.now\n",
    "    with t.server.request() as request:\n",
    "        yield request\n",
    "        yield env.process(t.IDcheck(number))\n",
    "\n",
    "\n",
    "    with t.scanner.request() as request:\n",
    "        yield request\n",
    "        yield env.process(t.scan(number))\n",
    "    \n",
    "    pass_time = env.now - Arrivaltime\n",
    "    total_time = total_time + pass_time\n",
    "    total_passengers = total_passengers+1"
   ]
  },
  {
   "cell_type": "markdown",
   "metadata": {},
   "source": [
    "## Setting Up"
   ]
  },
  {
   "cell_type": "code",
   "execution_count": 26,
   "metadata": {},
   "outputs": [],
   "source": [
    "def replicate(env, num, tsa):\n",
    "    arrival_int = random.expovariate(5)\n",
    "    yield env.timeout(arrival_int)\n",
    "    env.process(Passenger(env, num, tsa))"
   ]
  },
  {
   "cell_type": "markdown",
   "metadata": {},
   "source": [
    "# Running the Simulation"
   ]
  },
  {
   "cell_type": "code",
   "execution_count": 30,
   "metadata": {},
   "outputs": [
    {
     "name": "stdout",
     "output_type": "stream",
     "text": [
      "Getting Screened\n",
      "Average time to be screened:\n",
      "12.539123495250236\n"
     ]
    }
   ],
   "source": [
    "print('Getting Screened')\n",
    "random.seed(245)\n",
    "obs = sy.Environment()\n",
    "ap = Travel_Screen(obs, air_serv, air_scan)\n",
    "# Start processes and run\n",
    "for i in range(0,sum_pass):\n",
    "    obs.process(replicate(obs, i, ap))\n",
    "\n",
    "obs.run()\n",
    "\n",
    "avg_time = total_time / total_passengers\n",
    "\n",
    "print(\"Average time to be screened:\")\n",
    "print(avg_time)"
   ]
  },
  {
   "cell_type": "markdown",
   "metadata": {},
   "source": [
    "After calculating the average time for screening, it has been determined that by changing the parameters between 450-500 passengers, the average time gets much closer in the 10-15 minute range by having 30 checkers and 20 scanners. However, by testing 1000 passengers, the time has doubled to 20-30 minutes, which is expected. Although, by changing the parameters for the checkers and scanners, the more scanners there are, the slower the checkout time will be, even with less passengers. "
   ]
  },
  {
   "cell_type": "code",
   "execution_count": null,
   "metadata": {},
   "outputs": [],
   "source": []
  }
 ],
 "metadata": {
  "kernelspec": {
   "display_name": "Python 3",
   "language": "python",
   "name": "python3"
  },
  "language_info": {
   "codemirror_mode": {
    "name": "ipython",
    "version": 3
   },
   "file_extension": ".py",
   "mimetype": "text/x-python",
   "name": "python",
   "nbconvert_exporter": "python",
   "pygments_lexer": "ipython3",
   "version": "3.6.5"
  }
 },
 "nbformat": 4,
 "nbformat_minor": 2
}
